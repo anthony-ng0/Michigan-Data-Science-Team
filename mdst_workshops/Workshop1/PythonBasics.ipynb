{
 "cells": [
  {
   "cell_type": "code",
   "execution_count": 1,
   "metadata": {},
   "outputs": [
    {
     "name": "stdout",
     "output_type": "stream",
     "text": [
      "HEllo World\n"
     ]
    }
   ],
   "source": [
    "print(\"Hello World\")"
   ]
  },
  {
   "cell_type": "code",
   "execution_count": 2,
   "metadata": {},
   "outputs": [
    {
     "name": "stdout",
     "output_type": "stream",
     "text": [
      "7\n",
      "8.23\n",
      "Hi People\n",
      "Hello Everyone\n"
     ]
    }
   ],
   "source": [
    "a = 7\n",
    "b = 8.23\n",
    "c = \"Hi People\"\n",
    "d = 'Hello Everyone'\n",
    "print(a)\n",
    "print(b)\n",
    "print(c)\n",
    "print(d)"
   ]
  },
  {
   "cell_type": "code",
   "execution_count": 6,
   "metadata": {},
   "outputs": [
    {
     "name": "stdout",
     "output_type": "stream",
     "text": [
      "Today\n",
      "o\n",
      "a\n",
      "Hello World\n",
      "Hello World\n"
     ]
    }
   ],
   "source": [
    "#Python Review\n",
    "'''\n",
    "Data Types\n",
    "- String\n",
    "- Integer \n",
    "- Float/Double\n",
    "- Lists\n",
    "- Boolean\n",
    "- Dictionaries\n",
    "\n",
    "* TypeCasting\n",
    "Convert String to Number\n",
    "number = \"5\"\n",
    "int(number) should convert it to \"int\" type\n",
    "'''\n",
    "\n",
    "#Strings\n",
    "a = \"Hello\"\n",
    "b = \"World\"\n",
    "c = \"This\"\n",
    "d = \"is\"\n",
    "e = \"python3\"\n",
    "sentence = \"Today is a great saturday afternoon\"\n",
    "#String indexing\n",
    "print(sentence[0:5])\n",
    "print(sentence[1])\n",
    "print(sentence[3])\n",
    "#String concatenation\n",
    "print(a + \" \" + b)\n",
    "mdst = a + \" \" + b\n",
    "print(mdst)"
   ]
  },
  {
   "cell_type": "code",
   "execution_count": 8,
   "metadata": {},
   "outputs": [
    {
     "name": "stdout",
     "output_type": "stream",
     "text": [
      "['apples', 'oranges', 'bananas', 'watermelons', 5]\n"
     ]
    }
   ],
   "source": [
    "#Lists\n",
    "\n",
    "fruits = [\"apples\",\"oranges\",\"bananas\",\"watermelons\",5]\n",
    "print(fruits)\n",
    "s = ['h','e','l','l','o']\n",
    "print(s[0])\n",
    "print(s[0:5])"
   ]
  },
  {
   "cell_type": "code",
   "execution_count": 15,
   "metadata": {},
   "outputs": [
    {
     "name": "stdout",
     "output_type": "stream",
     "text": [
      "{'oranges': 5, 'apples': 10, 'lemons': 100, 'melons': 0}\n"
     ]
    }
   ],
   "source": [
    "#Dictionaries\n",
    "dictionary = {\n",
    "    \"oranges\" : 5, \n",
    "    \"apples\" : 10, \n",
    "    \"lemons\" : 100, \n",
    "    \"melons\" : 0\n",
    "}\n",
    "print(dictionary)"
   ]
  },
  {
   "cell_type": "code",
   "execution_count": 17,
   "metadata": {},
   "outputs": [
    {
     "name": "stdout",
     "output_type": "stream",
     "text": [
      "enter a number2\n",
      "Even\n"
     ]
    }
   ],
   "source": [
    "#Input and If/Else Statements\n",
    "x = int(input(\"enter a number\"))\n",
    "if (x % 2 == 0):\n",
    "    print(\"Even\")\n",
    "else:\n",
    "    print(\"Odd\")"
   ]
  },
  {
   "cell_type": "code",
   "execution_count": null,
   "metadata": {},
   "outputs": [],
   "source": [
    "#loops\n",
    "f"
   ]
  }
 ],
 "metadata": {
  "kernelspec": {
   "display_name": "Python 3",
   "language": "python",
   "name": "python3"
  },
  "language_info": {
   "codemirror_mode": {
    "name": "ipython",
    "version": 3
   },
   "file_extension": ".py",
   "mimetype": "text/x-python",
   "name": "python",
   "nbconvert_exporter": "python",
   "pygments_lexer": "ipython3",
   "version": "3.7.1"
  }
 },
 "nbformat": 4,
 "nbformat_minor": 2
}
